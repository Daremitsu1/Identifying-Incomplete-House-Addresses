{
 "cells": [
  {
   "cell_type": "markdown",
   "id": "e78f1b60",
   "metadata": {},
   "source": [
    "### Identifying country names from incomplete house addresses"
   ]
  },
  {
   "cell_type": "markdown",
   "id": "5a290cf1",
   "metadata": {},
   "source": [
    "#### 1. Import Dependencies"
   ]
  },
  {
   "cell_type": "code",
   "execution_count": 1,
   "id": "61e99641",
   "metadata": {},
   "outputs": [
    {
     "name": "stdout",
     "output_type": "stream",
     "text": [
      "\n",
      "torch not available\n",
      "\n",
      "torch not available\n",
      "\n"
     ]
    }
   ],
   "source": [
    "import os\n",
    "import zipfile\n",
    "import pandas as pd \n",
    "from pathlib import Path \n",
    "from arcgis.gis import GIS\n",
    "from arcgis.learn import prepare_textdata \n",
    "from arcgis.learn.text import TextClassifier"
   ]
  },
  {
   "cell_type": "markdown",
   "id": "d6c7347f",
   "metadata": {},
   "source": [
    "#### 2. Data Preparation"
   ]
  },
  {
   "cell_type": "code",
   "execution_count": 15,
   "id": "f630e46d",
   "metadata": {},
   "outputs": [
    {
     "name": "stdout",
     "output_type": "stream",
     "text": [
      "ERROR! Session/line number was not unique in database. History logging moved to new session 403\n"
     ]
    }
   ],
   "source": [
    "filepath = 'country_classifier.zip'"
   ]
  },
  {
   "cell_type": "code",
   "execution_count": 7,
   "id": "3804c9af",
   "metadata": {
    "collapsed": true
   },
   "outputs": [
    {
     "ename": "PermissionError",
     "evalue": "[Errno 13] Permission denied: 'country_classifier\\\\house-addresses.csv'",
     "output_type": "error",
     "traceback": [
      "\u001b[1;31m---------------------------------------------------------------------------\u001b[0m",
      "\u001b[1;31mPermissionError\u001b[0m                           Traceback (most recent call last)",
      "\u001b[1;32m<ipython-input-7-ab44b26179c0>\u001b[0m in \u001b[0;36m<module>\u001b[1;34m\u001b[0m\n\u001b[0;32m      1\u001b[0m \u001b[1;32mwith\u001b[0m \u001b[0mzipfile\u001b[0m\u001b[1;33m.\u001b[0m\u001b[0mZipFile\u001b[0m\u001b[1;33m(\u001b[0m\u001b[0mfilepath\u001b[0m\u001b[1;33m,\u001b[0m \u001b[1;34m'r'\u001b[0m\u001b[1;33m)\u001b[0m \u001b[1;32mas\u001b[0m \u001b[0mzip_ref\u001b[0m\u001b[1;33m:\u001b[0m\u001b[1;33m\u001b[0m\u001b[1;33m\u001b[0m\u001b[0m\n\u001b[1;32m----> 2\u001b[1;33m     \u001b[0mzip_ref\u001b[0m\u001b[1;33m.\u001b[0m\u001b[0mextractall\u001b[0m\u001b[1;33m(\u001b[0m\u001b[0mPath\u001b[0m\u001b[1;33m(\u001b[0m\u001b[0mfilepath\u001b[0m\u001b[1;33m)\u001b[0m\u001b[1;33m.\u001b[0m\u001b[0mparent\u001b[0m\u001b[1;33m)\u001b[0m\u001b[1;33m\u001b[0m\u001b[1;33m\u001b[0m\u001b[0m\n\u001b[0m",
      "\u001b[1;32m~\\Anaconda3\\envs\\ATOM\\lib\\zipfile.py\u001b[0m in \u001b[0;36mextractall\u001b[1;34m(self, path, members, pwd)\u001b[0m\n\u001b[0;32m   1634\u001b[0m \u001b[1;33m\u001b[0m\u001b[0m\n\u001b[0;32m   1635\u001b[0m         \u001b[1;32mfor\u001b[0m \u001b[0mzipinfo\u001b[0m \u001b[1;32min\u001b[0m \u001b[0mmembers\u001b[0m\u001b[1;33m:\u001b[0m\u001b[1;33m\u001b[0m\u001b[1;33m\u001b[0m\u001b[0m\n\u001b[1;32m-> 1636\u001b[1;33m             \u001b[0mself\u001b[0m\u001b[1;33m.\u001b[0m\u001b[0m_extract_member\u001b[0m\u001b[1;33m(\u001b[0m\u001b[0mzipinfo\u001b[0m\u001b[1;33m,\u001b[0m \u001b[0mpath\u001b[0m\u001b[1;33m,\u001b[0m \u001b[0mpwd\u001b[0m\u001b[1;33m)\u001b[0m\u001b[1;33m\u001b[0m\u001b[1;33m\u001b[0m\u001b[0m\n\u001b[0m\u001b[0;32m   1637\u001b[0m \u001b[1;33m\u001b[0m\u001b[0m\n\u001b[0;32m   1638\u001b[0m     \u001b[1;33m@\u001b[0m\u001b[0mclassmethod\u001b[0m\u001b[1;33m\u001b[0m\u001b[1;33m\u001b[0m\u001b[0m\n",
      "\u001b[1;32m~\\Anaconda3\\envs\\ATOM\\lib\\zipfile.py\u001b[0m in \u001b[0;36m_extract_member\u001b[1;34m(self, member, targetpath, pwd)\u001b[0m\n\u001b[0;32m   1688\u001b[0m \u001b[1;33m\u001b[0m\u001b[0m\n\u001b[0;32m   1689\u001b[0m         \u001b[1;32mwith\u001b[0m \u001b[0mself\u001b[0m\u001b[1;33m.\u001b[0m\u001b[0mopen\u001b[0m\u001b[1;33m(\u001b[0m\u001b[0mmember\u001b[0m\u001b[1;33m,\u001b[0m \u001b[0mpwd\u001b[0m\u001b[1;33m=\u001b[0m\u001b[0mpwd\u001b[0m\u001b[1;33m)\u001b[0m \u001b[1;32mas\u001b[0m \u001b[0msource\u001b[0m\u001b[1;33m,\u001b[0m\u001b[0;31m \u001b[0m\u001b[0;31m\\\u001b[0m\u001b[1;33m\u001b[0m\u001b[1;33m\u001b[0m\u001b[0m\n\u001b[1;32m-> 1690\u001b[1;33m              \u001b[0mopen\u001b[0m\u001b[1;33m(\u001b[0m\u001b[0mtargetpath\u001b[0m\u001b[1;33m,\u001b[0m \u001b[1;34m\"wb\"\u001b[0m\u001b[1;33m)\u001b[0m \u001b[1;32mas\u001b[0m \u001b[0mtarget\u001b[0m\u001b[1;33m:\u001b[0m\u001b[1;33m\u001b[0m\u001b[1;33m\u001b[0m\u001b[0m\n\u001b[0m\u001b[0;32m   1691\u001b[0m             \u001b[0mshutil\u001b[0m\u001b[1;33m.\u001b[0m\u001b[0mcopyfileobj\u001b[0m\u001b[1;33m(\u001b[0m\u001b[0msource\u001b[0m\u001b[1;33m,\u001b[0m \u001b[0mtarget\u001b[0m\u001b[1;33m)\u001b[0m\u001b[1;33m\u001b[0m\u001b[1;33m\u001b[0m\u001b[0m\n\u001b[0;32m   1692\u001b[0m \u001b[1;33m\u001b[0m\u001b[0m\n",
      "\u001b[1;31mPermissionError\u001b[0m: [Errno 13] Permission denied: 'country_classifier\\\\house-addresses.csv'"
     ]
    }
   ],
   "source": [
    "with zipfile.ZipFile(filepath, 'r') as zip_ref:\n",
    "    zip_ref.extractall(Path(filepath).parent)"
   ]
  },
  {
   "cell_type": "code",
   "execution_count": 16,
   "id": "77d22bf0",
   "metadata": {},
   "outputs": [],
   "source": [
    "DATA_ROOT = Path(os.path.join(os.path.splitext(filepath)[0]))"
   ]
  },
  {
   "cell_type": "code",
   "execution_count": 17,
   "id": "d36c4849",
   "metadata": {},
   "outputs": [],
   "source": [
    "data = prepare_textdata(DATA_ROOT, \"classification\", train_file=\"country_addresses.csv\", \n",
    "                        text_columns=\"Address\", label_columns=\"Country\", batch_size=64)"
   ]
  },
  {
   "cell_type": "code",
   "execution_count": 18,
   "id": "4067f5fd",
   "metadata": {},
   "outputs": [
    {
     "name": "stdout",
     "output_type": "stream",
     "text": [
      "['ES', 'AU', 'CA', 'BE']\n"
     ]
    }
   ],
   "source": [
    "print(data.classes)"
   ]
  },
  {
   "cell_type": "code",
   "execution_count": 19,
   "id": "b9be0063",
   "metadata": {},
   "outputs": [
    {
     "data": {
      "text/html": [
       "<style type=\"text/css\">\n",
       "#T_b60f6_ th {\n",
       "  text-align: left;\n",
       "}\n",
       "#T_b60f6_row0_col0, #T_b60f6_row0_col1, #T_b60f6_row1_col0, #T_b60f6_row1_col1, #T_b60f6_row2_col0, #T_b60f6_row2_col1, #T_b60f6_row3_col0, #T_b60f6_row3_col1, #T_b60f6_row4_col0, #T_b60f6_row4_col1, #T_b60f6_row5_col0, #T_b60f6_row5_col1, #T_b60f6_row6_col0, #T_b60f6_row6_col1, #T_b60f6_row7_col0, #T_b60f6_row7_col1, #T_b60f6_row8_col0, #T_b60f6_row8_col1, #T_b60f6_row9_col0, #T_b60f6_row9_col1 {\n",
       "  text-align: left;\n",
       "}\n",
       "</style>\n",
       "<table id=\"T_b60f6_\">\n",
       "  <thead>\n",
       "    <tr>\n",
       "      <th class=\"col_heading level0 col0\" >source</th>\n",
       "      <th class=\"col_heading level0 col1\" >target</th>\n",
       "    </tr>\n",
       "  </thead>\n",
       "  <tbody>\n",
       "    <tr>\n",
       "      <td id=\"T_b60f6_row0_col0\" class=\"data row0 col0\" >7, CL PPE ASTURIAS (BALSI) (BALSICAS), 30591</td>\n",
       "      <td id=\"T_b60f6_row0_col1\" class=\"data row0 col1\" >ES</td>\n",
       "    </tr>\n",
       "    <tr>\n",
       "      <td id=\"T_b60f6_row1_col0\" class=\"data row1 col0\" >49, MONTGOMERY ROAD, MONTGOMERY, VIC, 3851</td>\n",
       "      <td id=\"T_b60f6_row1_col1\" class=\"data row1 col1\" >AU</td>\n",
       "    </tr>\n",
       "    <tr>\n",
       "      <td id=\"T_b60f6_row2_col0\" class=\"data row2 col0\" >17, CL LINNE, DE, 8224</td>\n",
       "      <td id=\"T_b60f6_row2_col1\" class=\"data row2 col1\" >ES</td>\n",
       "    </tr>\n",
       "    <tr>\n",
       "      <td id=\"T_b60f6_row3_col0\" class=\"data row3 col0\" >33537, BRUCE HIGHWAY, SHIRBOURNE, QLD, 4809</td>\n",
       "      <td id=\"T_b60f6_row3_col1\" class=\"data row3 col1\" >AU</td>\n",
       "    </tr>\n",
       "    <tr>\n",
       "      <td id=\"T_b60f6_row4_col0\" class=\"data row4 col0\" >28, Belva, 7730</td>\n",
       "      <td id=\"T_b60f6_row4_col1\" class=\"data row4 col1\" >BE</td>\n",
       "    </tr>\n",
       "    <tr>\n",
       "      <td id=\"T_b60f6_row5_col0\" class=\"data row5 col0\" >2, CL BOCINEGRO, 35660</td>\n",
       "      <td id=\"T_b60f6_row5_col1\" class=\"data row5 col1\" >ES</td>\n",
       "    </tr>\n",
       "    <tr>\n",
       "      <td id=\"T_b60f6_row6_col0\" class=\"data row6 col0\" >401, PALISADES WAY, Strathcona County, AB</td>\n",
       "      <td id=\"T_b60f6_row6_col1\" class=\"data row6 col1\" >CA</td>\n",
       "    </tr>\n",
       "    <tr>\n",
       "      <td id=\"T_b60f6_row7_col0\" class=\"data row7 col0\" >1487, boulevard Alexis-Nihon</td>\n",
       "      <td id=\"T_b60f6_row7_col1\" class=\"data row7 col1\" >CA</td>\n",
       "    </tr>\n",
       "    <tr>\n",
       "      <td id=\"T_b60f6_row8_col0\" class=\"data row8 col0\" >7848, Route 112, Hunters Home, Queens</td>\n",
       "      <td id=\"T_b60f6_row8_col1\" class=\"data row8 col1\" >CA</td>\n",
       "    </tr>\n",
       "    <tr>\n",
       "      <td id=\"T_b60f6_row9_col0\" class=\"data row9 col0\" >230, Fauvin, 5540</td>\n",
       "      <td id=\"T_b60f6_row9_col1\" class=\"data row9 col1\" >BE</td>\n",
       "    </tr>\n",
       "  </tbody>\n",
       "</table>\n"
      ],
      "text/plain": [
       "<pandas.io.formats.style.Styler at 0x16f8b438e48>"
      ]
     },
     "execution_count": 19,
     "metadata": {},
     "output_type": "execute_result"
    }
   ],
   "source": [
    "data.show_batch(10) "
   ]
  },
  {
   "cell_type": "markdown",
   "id": "4595f85a",
   "metadata": {},
   "source": [
    "#### 3. TextClassifier Model"
   ]
  },
  {
   "cell_type": "code",
   "execution_count": 20,
   "id": "51d8358c",
   "metadata": {},
   "outputs": [
    {
     "name": "stdout",
     "output_type": "stream",
     "text": [
      "['BERT', 'RoBERTa', 'DistilBERT', 'ALBERT', 'FlauBERT', 'CamemBERT', 'XLNet', 'XLM', 'XLM-RoBERTa', 'Bart', 'ELECTRA', 'Longformer', 'MobileBERT', 'Funnel']\n"
     ]
    }
   ],
   "source": [
    "print(TextClassifier.supported_backbones)"
   ]
  },
  {
   "cell_type": "code",
   "execution_count": 21,
   "id": "0ca45c0c",
   "metadata": {},
   "outputs": [
    {
     "name": "stdout",
     "output_type": "stream",
     "text": [
      "('xlm-roberta-base', 'xlm-roberta-large')\n"
     ]
    }
   ],
   "source": [
    "print(TextClassifier.available_backbone_models(\"xlm-roberta\"))"
   ]
  },
  {
   "cell_type": "markdown",
   "id": "503d7295",
   "metadata": {},
   "source": [
    "#### 4. Load Model Architecture"
   ]
  },
  {
   "cell_type": "code",
   "execution_count": 22,
   "id": "451e00ba",
   "metadata": {},
   "outputs": [
    {
     "data": {
      "text/html": [],
      "text/plain": [
       "<IPython.core.display.HTML object>"
      ]
     },
     "metadata": {},
     "output_type": "display_data"
    },
    {
     "data": {
      "text/html": [],
      "text/plain": [
       "<IPython.core.display.HTML object>"
      ]
     },
     "metadata": {},
     "output_type": "display_data"
    }
   ],
   "source": [
    "model = TextClassifier(data, backbone=\"xlm-roberta-base\")"
   ]
  },
  {
   "cell_type": "markdown",
   "id": "404b8270",
   "metadata": {},
   "source": [
    "#### 5. Model Training"
   ]
  },
  {
   "cell_type": "code",
   "execution_count": 23,
   "id": "f898f611",
   "metadata": {},
   "outputs": [
    {
     "data": {
      "image/png": "[encoded data removed]",
      "text/plain": [
       "<Figure size 432x288 with 1 Axes>"
      ]
     },
     "metadata": {
      "needs_background": "light"
     },
     "output_type": "display_data"
    },
    {
     "data": {
      "text/plain": [
       "6.309573444801929e-05"
      ]
     },
     "execution_count": 23,
     "metadata": {},
     "output_type": "execute_result"
    }
   ],
   "source": [
    "model.lr_find()"
   ]
  },
  {
   "cell_type": "code",
   "execution_count": 24,
   "id": "d5037940",
   "metadata": {
    "scrolled": true
   },
   "outputs": [
    {
     "data": {
      "text/html": [
       "<table border=\"1\" class=\"dataframe\">\n",
       "  <thead>\n",
       "    <tr style=\"text-align: left;\">\n",
       "      <th>epoch</th>\n",
       "      <th>train_loss</th>\n",
       "      <th>valid_loss</th>\n",
       "      <th>accuracy</th>\n",
       "      <th>error_rate</th>\n",
       "      <th>time</th>\n",
       "    </tr>\n",
       "  </thead>\n",
       "  <tbody>\n",
       "    <tr>\n",
       "      <td>0</td>\n",
       "      <td>1.357779</td>\n",
       "      <td>1.351297</td>\n",
       "      <td>0.377049</td>\n",
       "      <td>0.622951</td>\n",
       "      <td>01:21</td>\n",
       "    </tr>\n",
       "    <tr>\n",
       "      <td>1</td>\n",
       "      <td>1.458520</td>\n",
       "      <td>1.341853</td>\n",
       "      <td>0.377049</td>\n",
       "      <td>0.622951</td>\n",
       "      <td>01:29</td>\n",
       "    </tr>\n",
       "    <tr>\n",
       "      <td>2</td>\n",
       "      <td>1.456708</td>\n",
       "      <td>1.347509</td>\n",
       "      <td>0.377049</td>\n",
       "      <td>0.622951</td>\n",
       "      <td>01:35</td>\n",
       "    </tr>\n",
       "    <tr>\n",
       "      <td>3</td>\n",
       "      <td>1.431302</td>\n",
       "      <td>1.345740</td>\n",
       "      <td>0.377049</td>\n",
       "      <td>0.622951</td>\n",
       "      <td>01:42</td>\n",
       "    </tr>\n",
       "  </tbody>\n",
       "</table>"
      ],
      "text/plain": [
       "<IPython.core.display.HTML object>"
      ]
     },
     "metadata": {},
     "output_type": "display_data"
    }
   ],
   "source": [
    "model.fit(epochs=4, lr=0.001)"
   ]
  },
  {
   "cell_type": "code",
   "execution_count": 25,
   "id": "1ef74be6",
   "metadata": {},
   "outputs": [
    {
     "data": {
      "text/html": [
       "<table border=\"1\" class=\"dataframe\">\n",
       "  <thead>\n",
       "    <tr style=\"text-align: left;\">\n",
       "      <th>epoch</th>\n",
       "      <th>train_loss</th>\n",
       "      <th>valid_loss</th>\n",
       "      <th>accuracy</th>\n",
       "      <th>error_rate</th>\n",
       "      <th>time</th>\n",
       "    </tr>\n",
       "  </thead>\n",
       "  <tbody>\n",
       "    <tr>\n",
       "      <td>0</td>\n",
       "      <td>1.342818</td>\n",
       "      <td>1.340286</td>\n",
       "      <td>0.377049</td>\n",
       "      <td>0.622951</td>\n",
       "      <td>01:54</td>\n",
       "    </tr>\n",
       "    <tr>\n",
       "      <td>1</td>\n",
       "      <td>1.356755</td>\n",
       "      <td>1.336986</td>\n",
       "      <td>0.377049</td>\n",
       "      <td>0.622951</td>\n",
       "      <td>02:01</td>\n",
       "    </tr>\n",
       "    <tr>\n",
       "      <td>2</td>\n",
       "      <td>1.357253</td>\n",
       "      <td>1.335367</td>\n",
       "      <td>0.377049</td>\n",
       "      <td>0.622951</td>\n",
       "      <td>01:55</td>\n",
       "    </tr>\n",
       "    <tr>\n",
       "      <td>3</td>\n",
       "      <td>1.355860</td>\n",
       "      <td>1.335350</td>\n",
       "      <td>0.377049</td>\n",
       "      <td>0.622951</td>\n",
       "      <td>01:47</td>\n",
       "    </tr>\n",
       "    <tr>\n",
       "      <td>4</td>\n",
       "      <td>1.350969</td>\n",
       "      <td>1.335450</td>\n",
       "      <td>0.377049</td>\n",
       "      <td>0.622951</td>\n",
       "      <td>01:51</td>\n",
       "    </tr>\n",
       "    <tr>\n",
       "      <td>5</td>\n",
       "      <td>1.349085</td>\n",
       "      <td>1.335476</td>\n",
       "      <td>0.377049</td>\n",
       "      <td>0.622951</td>\n",
       "      <td>01:46</td>\n",
       "    </tr>\n",
       "  </tbody>\n",
       "</table>"
      ],
      "text/plain": [
       "<IPython.core.display.HTML object>"
      ]
     },
     "metadata": {},
     "output_type": "display_data"
    }
   ],
   "source": [
    "# Unfreeze earlier layers to further fine-tune the model\n",
    "model.unfreeze()\n",
    "\n",
    "model.fit(epochs=6)"
   ]
  },
  {
   "cell_type": "markdown",
   "id": "50c24342",
   "metadata": {},
   "source": [
    "#### 6. Validate the results"
   ]
  },
  {
   "cell_type": "code",
   "execution_count": 26,
   "id": "092b83dc",
   "metadata": {},
   "outputs": [
    {
     "data": {
      "text/html": [
       "<style type=\"text/css\">\n",
       "#T_d50dd_ th {\n",
       "  text-align: left;\n",
       "}\n",
       "#T_d50dd_row0_col0, #T_d50dd_row0_col1, #T_d50dd_row0_col2, #T_d50dd_row1_col0, #T_d50dd_row1_col1, #T_d50dd_row1_col2, #T_d50dd_row2_col0, #T_d50dd_row2_col1, #T_d50dd_row2_col2, #T_d50dd_row3_col0, #T_d50dd_row3_col1, #T_d50dd_row3_col2, #T_d50dd_row4_col0, #T_d50dd_row4_col1, #T_d50dd_row4_col2, #T_d50dd_row5_col0, #T_d50dd_row5_col1, #T_d50dd_row5_col2, #T_d50dd_row6_col0, #T_d50dd_row6_col1, #T_d50dd_row6_col2, #T_d50dd_row7_col0, #T_d50dd_row7_col1, #T_d50dd_row7_col2, #T_d50dd_row8_col0, #T_d50dd_row8_col1, #T_d50dd_row8_col2, #T_d50dd_row9_col0, #T_d50dd_row9_col1, #T_d50dd_row9_col2, #T_d50dd_row10_col0, #T_d50dd_row10_col1, #T_d50dd_row10_col2, #T_d50dd_row11_col0, #T_d50dd_row11_col1, #T_d50dd_row11_col2, #T_d50dd_row12_col0, #T_d50dd_row12_col1, #T_d50dd_row12_col2, #T_d50dd_row13_col0, #T_d50dd_row13_col1, #T_d50dd_row13_col2, #T_d50dd_row14_col0, #T_d50dd_row14_col1, #T_d50dd_row14_col2 {\n",
       "  text-align: left;\n",
       "}\n",
       "</style>\n",
       "<table id=\"T_d50dd_\">\n",
       "  <thead>\n",
       "    <tr>\n",
       "      <th class=\"col_heading level0 col0\" >text</th>\n",
       "      <th class=\"col_heading level0 col1\" >target</th>\n",
       "      <th class=\"col_heading level0 col2\" >prediction</th>\n",
       "    </tr>\n",
       "  </thead>\n",
       "  <tbody>\n",
       "    <tr>\n",
       "      <td id=\"T_d50dd_row0_col0\" class=\"data row0 col0\" >303, UPPER PENNEYS HILL ROAD, ONKAPARINGA HILLS, SA, 5163</td>\n",
       "      <td id=\"T_d50dd_row0_col1\" class=\"data row0 col1\" >AU</td>\n",
       "      <td id=\"T_d50dd_row0_col2\" class=\"data row0 col2\" >BE</td>\n",
       "    </tr>\n",
       "    <tr>\n",
       "      <td id=\"T_d50dd_row1_col0\" class=\"data row1 col0\" >1384, DANDENONG ROAD, UNIT 133, HUGHESDALE, VIC, 3166</td>\n",
       "      <td id=\"T_d50dd_row1_col1\" class=\"data row1 col1\" >AU</td>\n",
       "      <td id=\"T_d50dd_row1_col2\" class=\"data row1 col2\" >BE</td>\n",
       "    </tr>\n",
       "    <tr>\n",
       "      <td id=\"T_d50dd_row2_col0\" class=\"data row2 col0\" >8, LONG ISLAND CIRCUIT, CRAIGIEBURN, VIC, 3064</td>\n",
       "      <td id=\"T_d50dd_row2_col1\" class=\"data row2 col1\" >AU</td>\n",
       "      <td id=\"T_d50dd_row2_col2\" class=\"data row2 col2\" >BE</td>\n",
       "    </tr>\n",
       "    <tr>\n",
       "      <td id=\"T_d50dd_row3_col0\" class=\"data row3 col0\" >35, ANGELO STREET, UNIT 14, SOUTH PERTH, WA, 6151</td>\n",
       "      <td id=\"T_d50dd_row3_col1\" class=\"data row3 col1\" >AU</td>\n",
       "      <td id=\"T_d50dd_row3_col2\" class=\"data row3 col2\" >BE</td>\n",
       "    </tr>\n",
       "    <tr>\n",
       "      <td id=\"T_d50dd_row4_col0\" class=\"data row4 col0\" >55, HODEL STREET, UNIT 3, HERMIT PARK, QLD, 4812</td>\n",
       "      <td id=\"T_d50dd_row4_col1\" class=\"data row4 col1\" >AU</td>\n",
       "      <td id=\"T_d50dd_row4_col2\" class=\"data row4 col2\" >BE</td>\n",
       "    </tr>\n",
       "    <tr>\n",
       "      <td id=\"T_d50dd_row5_col0\" class=\"data row5 col0\" >1-5, WALKER PLACE, UNIT 3, GAWLER, SA, 5118</td>\n",
       "      <td id=\"T_d50dd_row5_col1\" class=\"data row5 col1\" >AU</td>\n",
       "      <td id=\"T_d50dd_row5_col2\" class=\"data row5 col2\" >BE</td>\n",
       "    </tr>\n",
       "    <tr>\n",
       "      <td id=\"T_d50dd_row6_col0\" class=\"data row6 col0\" >24, ST ARNAUD ROAD, EYNESBURY, VIC, 3338</td>\n",
       "      <td id=\"T_d50dd_row6_col1\" class=\"data row6 col1\" >AU</td>\n",
       "      <td id=\"T_d50dd_row6_col2\" class=\"data row6 col2\" >BE</td>\n",
       "    </tr>\n",
       "    <tr>\n",
       "      <td id=\"T_d50dd_row7_col0\" class=\"data row7 col0\" >18F, DERRICK STREET, JERRAMUNGUP, WA, 6337</td>\n",
       "      <td id=\"T_d50dd_row7_col1\" class=\"data row7 col1\" >AU</td>\n",
       "      <td id=\"T_d50dd_row7_col2\" class=\"data row7 col2\" >BE</td>\n",
       "    </tr>\n",
       "    <tr>\n",
       "      <td id=\"T_d50dd_row8_col0\" class=\"data row8 col0\" >593, MARION BAY ROAD, MARION BAY, TAS, 7175</td>\n",
       "      <td id=\"T_d50dd_row8_col1\" class=\"data row8 col1\" >AU</td>\n",
       "      <td id=\"T_d50dd_row8_col2\" class=\"data row8 col2\" >BE</td>\n",
       "    </tr>\n",
       "    <tr>\n",
       "      <td id=\"T_d50dd_row9_col0\" class=\"data row9 col0\" >3, CL S LLUIS DE (MIAMI PLATJA), 43892</td>\n",
       "      <td id=\"T_d50dd_row9_col1\" class=\"data row9 col1\" >ES</td>\n",
       "      <td id=\"T_d50dd_row9_col2\" class=\"data row9 col2\" >BE</td>\n",
       "    </tr>\n",
       "    <tr>\n",
       "      <td id=\"T_d50dd_row10_col0\" class=\"data row10 col0\" >1600, STRACHAN RD SE, 104, T1B4M3</td>\n",
       "      <td id=\"T_d50dd_row10_col1\" class=\"data row10 col1\" >CA</td>\n",
       "      <td id=\"T_d50dd_row10_col2\" class=\"data row10 col2\" >BE</td>\n",
       "    </tr>\n",
       "    <tr>\n",
       "      <td id=\"T_d50dd_row11_col0\" class=\"data row11 col0\" >18, CL ALEJANDRO DAVILA LEON, 35212</td>\n",
       "      <td id=\"T_d50dd_row11_col1\" class=\"data row11 col1\" >ES</td>\n",
       "      <td id=\"T_d50dd_row11_col2\" class=\"data row11 col2\" >BE</td>\n",
       "    </tr>\n",
       "    <tr>\n",
       "      <td id=\"T_d50dd_row12_col0\" class=\"data row12 col0\" >13, FRANK AVENUE, WADALBA, NSW, 2259</td>\n",
       "      <td id=\"T_d50dd_row12_col1\" class=\"data row12 col1\" >AU</td>\n",
       "      <td id=\"T_d50dd_row12_col2\" class=\"data row12 col2\" >BE</td>\n",
       "    </tr>\n",
       "    <tr>\n",
       "      <td id=\"T_d50dd_row13_col0\" class=\"data row13 col0\" >4, CL BELLAS ARTES (MONTECANAL), 50012</td>\n",
       "      <td id=\"T_d50dd_row13_col1\" class=\"data row13 col1\" >ES</td>\n",
       "      <td id=\"T_d50dd_row13_col2\" class=\"data row13 col2\" >BE</td>\n",
       "    </tr>\n",
       "    <tr>\n",
       "      <td id=\"T_d50dd_row14_col0\" class=\"data row14 col0\" >53, Rue Victor Lefèvre, ET01, 1030</td>\n",
       "      <td id=\"T_d50dd_row14_col1\" class=\"data row14 col1\" >BE</td>\n",
       "      <td id=\"T_d50dd_row14_col2\" class=\"data row14 col2\" >BE</td>\n",
       "    </tr>\n",
       "  </tbody>\n",
       "</table>\n"
      ],
      "text/plain": [
       "<pandas.io.formats.style.Styler at 0x16f8b444c08>"
      ]
     },
     "metadata": {},
     "output_type": "display_data"
    }
   ],
   "source": [
    "# After training, checking the results to see how it performs\n",
    "model.show_results(15)"
   ]
  },
  {
   "cell_type": "markdown",
   "id": "44e6cbcf",
   "metadata": {},
   "source": [
    "#### 7. Test the model prediction on an input text"
   ]
  },
  {
   "cell_type": "code",
   "execution_count": 27,
   "id": "603c9c5c",
   "metadata": {},
   "outputs": [
    {
     "name": "stdout",
     "output_type": "stream",
     "text": [
      "('1016, 8A, CL RICARDO LEON - SANTA ANA (CARTAGENA), 30319', 'BE', 0.3776848316192627)\n"
     ]
    }
   ],
   "source": [
    "text = \"\"\"1016, 8A, CL RICARDO LEON - SANTA ANA (CARTAGENA), 30319\"\"\"\n",
    "print(model.predict(text))"
   ]
  },
  {
   "cell_type": "markdown",
   "id": "486e538a",
   "metadata": {},
   "source": [
    "#### 8. Model metrics"
   ]
  },
  {
   "cell_type": "code",
   "execution_count": 28,
   "id": "9fcf3f73",
   "metadata": {},
   "outputs": [
    {
     "data": {
      "text/plain": [
       "0.377"
      ]
     },
     "execution_count": 28,
     "metadata": {},
     "output_type": "execute_result"
    }
   ],
   "source": [
    "# Check to see how accurate the model is in correctly predicting the classes in the dataset\n",
    "model.accuracy()"
   ]
  },
  {
   "cell_type": "code",
   "execution_count": 29,
   "id": "e0513ded",
   "metadata": {},
   "outputs": [
    {
     "data": {
      "text/html": [
       "\n",
       "    <div>\n",
       "        <style>\n",
       "            /* Turns off some styling */\n",
       "            progress {\n",
       "                /* gets rid of default border in Firefox and Opera. */\n",
       "                border: none;\n",
       "                /* Needs to be in here for Safari polyfill so background images work as expected. */\n",
       "                background-size: auto;\n",
       "            }\n",
       "            .progress-bar-interrupted, .progress-bar-interrupted::-webkit-progress-bar {\n",
       "                background: #F44336;\n",
       "            }\n",
       "        </style>\n",
       "      <progress value='61' class='' max='61' style='width:300px; height:20px; vertical-align: middle;'></progress>\n",
       "      100.00% [61/61 00:04<00:00]\n",
       "    </div>\n",
       "    "
      ],
      "text/plain": [
       "<IPython.core.display.HTML object>"
      ]
     },
     "metadata": {},
     "output_type": "display_data"
    },
    {
     "data": {
      "text/html": [
       "<div>\n",
       "<style scoped>\n",
       "    .dataframe tbody tr th:only-of-type {\n",
       "        vertical-align: middle;\n",
       "    }\n",
       "\n",
       "    .dataframe tbody tr th {\n",
       "        vertical-align: top;\n",
       "    }\n",
       "\n",
       "    .dataframe thead th {\n",
       "        text-align: right;\n",
       "    }\n",
       "</style>\n",
       "<table border=\"1\" class=\"dataframe\">\n",
       "  <thead>\n",
       "    <tr style=\"text-align: right;\">\n",
       "      <th></th>\n",
       "      <th>Precision_score</th>\n",
       "      <th>Recall_score</th>\n",
       "      <th>F1_score</th>\n",
       "      <th>Support</th>\n",
       "    </tr>\n",
       "  </thead>\n",
       "  <tbody>\n",
       "    <tr>\n",
       "      <th>AU</th>\n",
       "      <td>1.000</td>\n",
       "      <td>0.0</td>\n",
       "      <td>0.0000</td>\n",
       "      <td>10.0</td>\n",
       "    </tr>\n",
       "    <tr>\n",
       "      <th>BE</th>\n",
       "      <td>0.377</td>\n",
       "      <td>1.0</td>\n",
       "      <td>0.5476</td>\n",
       "      <td>23.0</td>\n",
       "    </tr>\n",
       "    <tr>\n",
       "      <th>CA</th>\n",
       "      <td>1.000</td>\n",
       "      <td>0.0</td>\n",
       "      <td>0.0000</td>\n",
       "      <td>12.0</td>\n",
       "    </tr>\n",
       "    <tr>\n",
       "      <th>ES</th>\n",
       "      <td>1.000</td>\n",
       "      <td>0.0</td>\n",
       "      <td>0.0000</td>\n",
       "      <td>16.0</td>\n",
       "    </tr>\n",
       "  </tbody>\n",
       "</table>\n",
       "</div>"
      ],
      "text/plain": [
       "    Precision_score  Recall_score  F1_score  Support\n",
       "AU            1.000           0.0    0.0000     10.0\n",
       "BE            0.377           1.0    0.5476     23.0\n",
       "CA            1.000           0.0    0.0000     12.0\n",
       "ES            1.000           0.0    0.0000     16.0"
      ]
     },
     "execution_count": 29,
     "metadata": {},
     "output_type": "execute_result"
    }
   ],
   "source": [
    "# Also check precision, recall & f1 scores per label/class\n",
    "model.metrics_per_label()"
   ]
  },
  {
   "cell_type": "markdown",
   "id": "8f51dd3f",
   "metadata": {},
   "source": [
    "#### 9. Get misclassified records"
   ]
  },
  {
   "cell_type": "code",
   "execution_count": 30,
   "id": "7f88513f",
   "metadata": {},
   "outputs": [
    {
     "data": {
      "text/html": [
       "\n",
       "    <div>\n",
       "        <style>\n",
       "            /* Turns off some styling */\n",
       "            progress {\n",
       "                /* gets rid of default border in Firefox and Opera. */\n",
       "                border: none;\n",
       "                /* Needs to be in here for Safari polyfill so background images work as expected. */\n",
       "                background-size: auto;\n",
       "            }\n",
       "            .progress-bar-interrupted, .progress-bar-interrupted::-webkit-progress-bar {\n",
       "                background: #F44336;\n",
       "            }\n",
       "        </style>\n",
       "      <progress value='61' class='' max='61' style='width:300px; height:20px; vertical-align: middle;'></progress>\n",
       "      100.00% [61/61 00:03<00:00]\n",
       "    </div>\n",
       "    "
      ],
      "text/plain": [
       "<IPython.core.display.HTML object>"
      ]
     },
     "metadata": {},
     "output_type": "display_data"
    }
   ],
   "source": [
    "# To get the misclassified records we will call the model's get_misclassified_records method\n",
    "misclassified_records = model.get_misclassified_records()"
   ]
  },
  {
   "cell_type": "code",
   "execution_count": 31,
   "id": "63a41e12",
   "metadata": {},
   "outputs": [
    {
     "data": {
      "text/html": [
       "<style type=\"text/css\">\n",
       "#T_f55be_ th {\n",
       "  text-align: left;\n",
       "}\n",
       "#T_f55be_row0_col0, #T_f55be_row0_col1, #T_f55be_row0_col2, #T_f55be_row1_col0, #T_f55be_row1_col1, #T_f55be_row1_col2, #T_f55be_row2_col0, #T_f55be_row2_col1, #T_f55be_row2_col2, #T_f55be_row3_col0, #T_f55be_row3_col1, #T_f55be_row3_col2, #T_f55be_row4_col0, #T_f55be_row4_col1, #T_f55be_row4_col2, #T_f55be_row5_col0, #T_f55be_row5_col1, #T_f55be_row5_col2, #T_f55be_row6_col0, #T_f55be_row6_col1, #T_f55be_row6_col2, #T_f55be_row7_col0, #T_f55be_row7_col1, #T_f55be_row7_col2, #T_f55be_row8_col0, #T_f55be_row8_col1, #T_f55be_row8_col2, #T_f55be_row9_col0, #T_f55be_row9_col1, #T_f55be_row9_col2, #T_f55be_row10_col0, #T_f55be_row10_col1, #T_f55be_row10_col2, #T_f55be_row11_col0, #T_f55be_row11_col1, #T_f55be_row11_col2, #T_f55be_row12_col0, #T_f55be_row12_col1, #T_f55be_row12_col2, #T_f55be_row13_col0, #T_f55be_row13_col1, #T_f55be_row13_col2, #T_f55be_row14_col0, #T_f55be_row14_col1, #T_f55be_row14_col2, #T_f55be_row15_col0, #T_f55be_row15_col1, #T_f55be_row15_col2, #T_f55be_row16_col0, #T_f55be_row16_col1, #T_f55be_row16_col2, #T_f55be_row17_col0, #T_f55be_row17_col1, #T_f55be_row17_col2, #T_f55be_row18_col0, #T_f55be_row18_col1, #T_f55be_row18_col2, #T_f55be_row19_col0, #T_f55be_row19_col1, #T_f55be_row19_col2, #T_f55be_row20_col0, #T_f55be_row20_col1, #T_f55be_row20_col2, #T_f55be_row21_col0, #T_f55be_row21_col1, #T_f55be_row21_col2, #T_f55be_row22_col0, #T_f55be_row22_col1, #T_f55be_row22_col2, #T_f55be_row23_col0, #T_f55be_row23_col1, #T_f55be_row23_col2, #T_f55be_row24_col0, #T_f55be_row24_col1, #T_f55be_row24_col2, #T_f55be_row25_col0, #T_f55be_row25_col1, #T_f55be_row25_col2, #T_f55be_row26_col0, #T_f55be_row26_col1, #T_f55be_row26_col2, #T_f55be_row27_col0, #T_f55be_row27_col1, #T_f55be_row27_col2, #T_f55be_row28_col0, #T_f55be_row28_col1, #T_f55be_row28_col2, #T_f55be_row29_col0, #T_f55be_row29_col1, #T_f55be_row29_col2, #T_f55be_row30_col0, #T_f55be_row30_col1, #T_f55be_row30_col2, #T_f55be_row31_col0, #T_f55be_row31_col1, #T_f55be_row31_col2, #T_f55be_row32_col0, #T_f55be_row32_col1, #T_f55be_row32_col2, #T_f55be_row33_col0, #T_f55be_row33_col1, #T_f55be_row33_col2, #T_f55be_row34_col0, #T_f55be_row34_col1, #T_f55be_row34_col2, #T_f55be_row35_col0, #T_f55be_row35_col1, #T_f55be_row35_col2, #T_f55be_row36_col0, #T_f55be_row36_col1, #T_f55be_row36_col2, #T_f55be_row37_col0, #T_f55be_row37_col1, #T_f55be_row37_col2 {\n",
       "  text-align: left;\n",
       "}\n",
       "</style>\n",
       "<table id=\"T_f55be_\">\n",
       "  <thead>\n",
       "    <tr>\n",
       "      <th class=\"col_heading level0 col0\" >Address</th>\n",
       "      <th class=\"col_heading level0 col1\" >Target</th>\n",
       "      <th class=\"col_heading level0 col2\" >Prediction</th>\n",
       "    </tr>\n",
       "  </thead>\n",
       "  <tbody>\n",
       "    <tr>\n",
       "      <td id=\"T_f55be_row0_col0\" class=\"data row0 col0\" >9B, CL GANADERIA, 22006</td>\n",
       "      <td id=\"T_f55be_row0_col1\" class=\"data row0 col1\" >ES</td>\n",
       "      <td id=\"T_f55be_row0_col2\" class=\"data row0 col2\" >BE</td>\n",
       "    </tr>\n",
       "    <tr>\n",
       "      <td id=\"T_f55be_row1_col0\" class=\"data row1 col0\" >35, ANGELO STREET, UNIT 14, SOUTH PERTH, WA, 6151</td>\n",
       "      <td id=\"T_f55be_row1_col1\" class=\"data row1 col1\" >AU</td>\n",
       "      <td id=\"T_f55be_row1_col2\" class=\"data row1 col2\" >BE</td>\n",
       "    </tr>\n",
       "    <tr>\n",
       "      <td id=\"T_f55be_row2_col0\" class=\"data row2 col0\" >7553, avenue Christophe-Colomb</td>\n",
       "      <td id=\"T_f55be_row2_col1\" class=\"data row2 col1\" >CA</td>\n",
       "      <td id=\"T_f55be_row2_col2\" class=\"data row2 col2\" >BE</td>\n",
       "    </tr>\n",
       "    <tr>\n",
       "      <td id=\"T_f55be_row3_col0\" class=\"data row3 col0\" >3, CL S LLUIS DE (MIAMI PLATJA), 43892</td>\n",
       "      <td id=\"T_f55be_row3_col1\" class=\"data row3 col1\" >ES</td>\n",
       "      <td id=\"T_f55be_row3_col2\" class=\"data row3 col2\" >BE</td>\n",
       "    </tr>\n",
       "    <tr>\n",
       "      <td id=\"T_f55be_row4_col0\" class=\"data row4 col0\" >55, HODEL STREET, UNIT 3, HERMIT PARK, QLD, 4812</td>\n",
       "      <td id=\"T_f55be_row4_col1\" class=\"data row4 col1\" >AU</td>\n",
       "      <td id=\"T_f55be_row4_col2\" class=\"data row4 col2\" >BE</td>\n",
       "    </tr>\n",
       "    <tr>\n",
       "      <td id=\"T_f55be_row5_col0\" class=\"data row5 col0\" >18, CL ALEJANDRO DAVILA LEON, 35212</td>\n",
       "      <td id=\"T_f55be_row5_col1\" class=\"data row5 col1\" >ES</td>\n",
       "      <td id=\"T_f55be_row5_col2\" class=\"data row5 col2\" >BE</td>\n",
       "    </tr>\n",
       "    <tr>\n",
       "      <td id=\"T_f55be_row6_col0\" class=\"data row6 col0\" >20, CL AGUSTIN PASTOR, 44141</td>\n",
       "      <td id=\"T_f55be_row6_col1\" class=\"data row6 col1\" >ES</td>\n",
       "      <td id=\"T_f55be_row6_col2\" class=\"data row6 col2\" >BE</td>\n",
       "    </tr>\n",
       "    <tr>\n",
       "      <td id=\"T_f55be_row7_col0\" class=\"data row7 col0\" >16, Oakdale AVE</td>\n",
       "      <td id=\"T_f55be_row7_col1\" class=\"data row7 col1\" >CA</td>\n",
       "      <td id=\"T_f55be_row7_col2\" class=\"data row7 col2\" >BE</td>\n",
       "    </tr>\n",
       "    <tr>\n",
       "      <td id=\"T_f55be_row8_col0\" class=\"data row8 col0\" >18417, 85 AVENUE NW</td>\n",
       "      <td id=\"T_f55be_row8_col1\" class=\"data row8 col1\" >CA</td>\n",
       "      <td id=\"T_f55be_row8_col2\" class=\"data row8 col2\" >BE</td>\n",
       "    </tr>\n",
       "    <tr>\n",
       "      <td id=\"T_f55be_row9_col0\" class=\"data row9 col0\" >303, UPPER PENNEYS HILL ROAD, ONKAPARINGA HILLS, SA, 5163</td>\n",
       "      <td id=\"T_f55be_row9_col1\" class=\"data row9 col1\" >AU</td>\n",
       "      <td id=\"T_f55be_row9_col2\" class=\"data row9 col2\" >BE</td>\n",
       "    </tr>\n",
       "    <tr>\n",
       "      <td id=\"T_f55be_row10_col0\" class=\"data row10 col0\" >S/N, LG VILLAMIR, 15145</td>\n",
       "      <td id=\"T_f55be_row10_col1\" class=\"data row10 col1\" >ES</td>\n",
       "      <td id=\"T_f55be_row10_col2\" class=\"data row10 col2\" >BE</td>\n",
       "    </tr>\n",
       "    <tr>\n",
       "      <td id=\"T_f55be_row11_col0\" class=\"data row11 col0\" >13, FRANK AVENUE, WADALBA, NSW, 2259</td>\n",
       "      <td id=\"T_f55be_row11_col1\" class=\"data row11 col1\" >AU</td>\n",
       "      <td id=\"T_f55be_row11_col2\" class=\"data row11 col2\" >BE</td>\n",
       "    </tr>\n",
       "    <tr>\n",
       "      <td id=\"T_f55be_row12_col0\" class=\"data row12 col0\" >4, CL BELLAS ARTES (MONTECANAL), 50012</td>\n",
       "      <td id=\"T_f55be_row12_col1\" class=\"data row12 col1\" >ES</td>\n",
       "      <td id=\"T_f55be_row12_col2\" class=\"data row12 col2\" >BE</td>\n",
       "    </tr>\n",
       "    <tr>\n",
       "      <td id=\"T_f55be_row13_col0\" class=\"data row13 col0\" >593, MARION BAY ROAD, MARION BAY, TAS, 7175</td>\n",
       "      <td id=\"T_f55be_row13_col1\" class=\"data row13 col1\" >AU</td>\n",
       "      <td id=\"T_f55be_row13_col2\" class=\"data row13 col2\" >BE</td>\n",
       "    </tr>\n",
       "    <tr>\n",
       "      <td id=\"T_f55be_row14_col0\" class=\"data row14 col0\" >5231, 41 Street Crescent, INNISFAIL</td>\n",
       "      <td id=\"T_f55be_row14_col1\" class=\"data row14 col1\" >CA</td>\n",
       "      <td id=\"T_f55be_row14_col2\" class=\"data row14 col2\" >BE</td>\n",
       "    </tr>\n",
       "    <tr>\n",
       "      <td id=\"T_f55be_row15_col0\" class=\"data row15 col0\" >1600, STRACHAN RD SE, 104, T1B4M3</td>\n",
       "      <td id=\"T_f55be_row15_col1\" class=\"data row15 col1\" >CA</td>\n",
       "      <td id=\"T_f55be_row15_col2\" class=\"data row15 col2\" >BE</td>\n",
       "    </tr>\n",
       "    <tr>\n",
       "      <td id=\"T_f55be_row16_col0\" class=\"data row16 col0\" >968, Ritchie  Dr, Halifax, Halifax County</td>\n",
       "      <td id=\"T_f55be_row16_col1\" class=\"data row16 col1\" >CA</td>\n",
       "      <td id=\"T_f55be_row16_col2\" class=\"data row16 col2\" >BE</td>\n",
       "    </tr>\n",
       "    <tr>\n",
       "      <td id=\"T_f55be_row17_col0\" class=\"data row17 col0\" >171, UR SIERRA GORDA (UR8), 29120</td>\n",
       "      <td id=\"T_f55be_row17_col1\" class=\"data row17 col1\" >ES</td>\n",
       "      <td id=\"T_f55be_row17_col2\" class=\"data row17 col2\" >BE</td>\n",
       "    </tr>\n",
       "    <tr>\n",
       "      <td id=\"T_f55be_row18_col0\" class=\"data row18 col0\" >1-5, WALKER PLACE, UNIT 3, GAWLER, SA, 5118</td>\n",
       "      <td id=\"T_f55be_row18_col1\" class=\"data row18 col1\" >AU</td>\n",
       "      <td id=\"T_f55be_row18_col2\" class=\"data row18 col2\" >BE</td>\n",
       "    </tr>\n",
       "    <tr>\n",
       "      <td id=\"T_f55be_row19_col0\" class=\"data row19 col0\" >24, ST ARNAUD ROAD, EYNESBURY, VIC, 3338</td>\n",
       "      <td id=\"T_f55be_row19_col1\" class=\"data row19 col1\" >AU</td>\n",
       "      <td id=\"T_f55be_row19_col2\" class=\"data row19 col2\" >BE</td>\n",
       "    </tr>\n",
       "    <tr>\n",
       "      <td id=\"T_f55be_row20_col0\" class=\"data row20 col0\" >3818, TASCHEREAU, J4V2H9</td>\n",
       "      <td id=\"T_f55be_row20_col1\" class=\"data row20 col1\" >CA</td>\n",
       "      <td id=\"T_f55be_row20_col2\" class=\"data row20 col2\" >BE</td>\n",
       "    </tr>\n",
       "    <tr>\n",
       "      <td id=\"T_f55be_row21_col0\" class=\"data row21 col0\" >15, CL JOAN MARAGALL, 25182</td>\n",
       "      <td id=\"T_f55be_row21_col1\" class=\"data row21 col1\" >ES</td>\n",
       "      <td id=\"T_f55be_row21_col2\" class=\"data row21 col2\" >BE</td>\n",
       "    </tr>\n",
       "    <tr>\n",
       "      <td id=\"T_f55be_row22_col0\" class=\"data row22 col0\" >31, CL CAMARILLA, 19119</td>\n",
       "      <td id=\"T_f55be_row22_col1\" class=\"data row22 col1\" >ES</td>\n",
       "      <td id=\"T_f55be_row22_col2\" class=\"data row22 col2\" >BE</td>\n",
       "    </tr>\n",
       "    <tr>\n",
       "      <td id=\"T_f55be_row23_col0\" class=\"data row23 col0\" >13, DS CARRASQUILLA (CARRASQUILLA), 30815</td>\n",
       "      <td id=\"T_f55be_row23_col1\" class=\"data row23 col1\" >ES</td>\n",
       "      <td id=\"T_f55be_row23_col2\" class=\"data row23 col2\" >BE</td>\n",
       "    </tr>\n",
       "    <tr>\n",
       "      <td id=\"T_f55be_row24_col0\" class=\"data row24 col0\" >22679, LOYALIST PARKWAY, 1</td>\n",
       "      <td id=\"T_f55be_row24_col1\" class=\"data row24 col1\" >CA</td>\n",
       "      <td id=\"T_f55be_row24_col2\" class=\"data row24 col2\" >BE</td>\n",
       "    </tr>\n",
       "    <tr>\n",
       "      <td id=\"T_f55be_row25_col0\" class=\"data row25 col0\" >S/N, CM CLAVO EL, 35469</td>\n",
       "      <td id=\"T_f55be_row25_col1\" class=\"data row25 col1\" >ES</td>\n",
       "      <td id=\"T_f55be_row25_col2\" class=\"data row25 col2\" >BE</td>\n",
       "    </tr>\n",
       "    <tr>\n",
       "      <td id=\"T_f55be_row26_col0\" class=\"data row26 col0\" >4020, Twenty-third Street, Lincoln</td>\n",
       "      <td id=\"T_f55be_row26_col1\" class=\"data row26 col1\" >CA</td>\n",
       "      <td id=\"T_f55be_row26_col2\" class=\"data row26 col2\" >BE</td>\n",
       "    </tr>\n",
       "    <tr>\n",
       "      <td id=\"T_f55be_row27_col0\" class=\"data row27 col0\" >157, Mayla Drive, Oakville, ON</td>\n",
       "      <td id=\"T_f55be_row27_col1\" class=\"data row27 col1\" >CA</td>\n",
       "      <td id=\"T_f55be_row27_col2\" class=\"data row27 col2\" >BE</td>\n",
       "    </tr>\n",
       "    <tr>\n",
       "      <td id=\"T_f55be_row28_col0\" class=\"data row28 col0\" >453, Broadgreen Street, Pickering</td>\n",
       "      <td id=\"T_f55be_row28_col1\" class=\"data row28 col1\" >CA</td>\n",
       "      <td id=\"T_f55be_row28_col2\" class=\"data row28 col2\" >BE</td>\n",
       "    </tr>\n",
       "    <tr>\n",
       "      <td id=\"T_f55be_row29_col0\" class=\"data row29 col0\" >S/N, UR DEVESA A, 32630</td>\n",
       "      <td id=\"T_f55be_row29_col1\" class=\"data row29 col1\" >ES</td>\n",
       "      <td id=\"T_f55be_row29_col2\" class=\"data row29 col2\" >BE</td>\n",
       "    </tr>\n",
       "    <tr>\n",
       "      <td id=\"T_f55be_row30_col0\" class=\"data row30 col0\" >1384, DANDENONG ROAD, UNIT 133, HUGHESDALE, VIC, 3166</td>\n",
       "      <td id=\"T_f55be_row30_col1\" class=\"data row30 col1\" >AU</td>\n",
       "      <td id=\"T_f55be_row30_col2\" class=\"data row30 col2\" >BE</td>\n",
       "    </tr>\n",
       "    <tr>\n",
       "      <td id=\"T_f55be_row31_col0\" class=\"data row31 col0\" >8, LONG ISLAND CIRCUIT, CRAIGIEBURN, VIC, 3064</td>\n",
       "      <td id=\"T_f55be_row31_col1\" class=\"data row31 col1\" >AU</td>\n",
       "      <td id=\"T_f55be_row31_col2\" class=\"data row31 col2\" >BE</td>\n",
       "    </tr>\n",
       "    <tr>\n",
       "      <td id=\"T_f55be_row32_col0\" class=\"data row32 col0\" >38, CL SANTA ANA, 16780</td>\n",
       "      <td id=\"T_f55be_row32_col1\" class=\"data row32 col1\" >ES</td>\n",
       "      <td id=\"T_f55be_row32_col2\" class=\"data row32 col2\" >BE</td>\n",
       "    </tr>\n",
       "    <tr>\n",
       "      <td id=\"T_f55be_row33_col0\" class=\"data row33 col0\" >16, CL TOMAS GOMEZ, 37727</td>\n",
       "      <td id=\"T_f55be_row33_col1\" class=\"data row33 col1\" >ES</td>\n",
       "      <td id=\"T_f55be_row33_col2\" class=\"data row33 col2\" >BE</td>\n",
       "    </tr>\n",
       "    <tr>\n",
       "      <td id=\"T_f55be_row34_col0\" class=\"data row34 col0\" >10, WEST VIEW BOULEVARD NW</td>\n",
       "      <td id=\"T_f55be_row34_col1\" class=\"data row34 col1\" >CA</td>\n",
       "      <td id=\"T_f55be_row34_col2\" class=\"data row34 col2\" >BE</td>\n",
       "    </tr>\n",
       "    <tr>\n",
       "      <td id=\"T_f55be_row35_col0\" class=\"data row35 col0\" >4, CL PINTOR PINAZO, 46230</td>\n",
       "      <td id=\"T_f55be_row35_col1\" class=\"data row35 col1\" >ES</td>\n",
       "      <td id=\"T_f55be_row35_col2\" class=\"data row35 col2\" >BE</td>\n",
       "    </tr>\n",
       "    <tr>\n",
       "      <td id=\"T_f55be_row36_col0\" class=\"data row36 col0\" >33, DS EXTRAMUROS, 41230</td>\n",
       "      <td id=\"T_f55be_row36_col1\" class=\"data row36 col1\" >ES</td>\n",
       "      <td id=\"T_f55be_row36_col2\" class=\"data row36 col2\" >BE</td>\n",
       "    </tr>\n",
       "    <tr>\n",
       "      <td id=\"T_f55be_row37_col0\" class=\"data row37 col0\" >18F, DERRICK STREET, JERRAMUNGUP, WA, 6337</td>\n",
       "      <td id=\"T_f55be_row37_col1\" class=\"data row37 col1\" >AU</td>\n",
       "      <td id=\"T_f55be_row37_col2\" class=\"data row37 col2\" >BE</td>\n",
       "    </tr>\n",
       "  </tbody>\n",
       "</table>\n"
      ],
      "text/plain": [
       "<pandas.io.formats.style.Styler at 0x16fdb6b4588>"
      ]
     },
     "execution_count": 31,
     "metadata": {},
     "output_type": "execute_result"
    }
   ],
   "source": [
    "misclassified_records.style.set_table_styles([dict(selector='th', props=[('text-align', 'left')])])\\\n",
    "        .set_properties(**{'text-align': \"left\"}).hide_index()"
   ]
  },
  {
   "cell_type": "markdown",
   "id": "8a389c7d",
   "metadata": {},
   "source": [
    "#### 10. Saving the trained model"
   ]
  },
  {
   "cell_type": "code",
   "execution_count": 32,
   "id": "65cbaea5",
   "metadata": {},
   "outputs": [
    {
     "name": "stdout",
     "output_type": "stream",
     "text": [
      "Computing model metrics...\n"
     ]
    },
    {
     "data": {
      "text/plain": [
       "WindowsPath('C:/Users/aviparna.biswas/Python Projects/ATOM/models/country_classifier')"
      ]
     },
     "execution_count": 32,
     "metadata": {},
     "output_type": "execute_result"
    }
   ],
   "source": [
    "# Save the model for interfencing on unseen data\n",
    "model.save(\"country_classifier\")"
   ]
  },
  {
   "cell_type": "markdown",
   "id": "1f2614de",
   "metadata": {},
   "source": [
    "#### 11. Model Inference"
   ]
  },
  {
   "cell_type": "code",
   "execution_count": 33,
   "id": "a84f9c64",
   "metadata": {},
   "outputs": [
    {
     "data": {
      "text/html": [
       "\n",
       "    <div>\n",
       "        <style>\n",
       "            /* Turns off some styling */\n",
       "            progress {\n",
       "                /* gets rid of default border in Firefox and Opera. */\n",
       "                border: none;\n",
       "                /* Needs to be in here for Safari polyfill so background images work as expected. */\n",
       "                background-size: auto;\n",
       "            }\n",
       "            .progress-bar-interrupted, .progress-bar-interrupted::-webkit-progress-bar {\n",
       "                background: #F44336;\n",
       "            }\n",
       "        </style>\n",
       "      <progress value='15' class='' max='15' style='width:300px; height:20px; vertical-align: middle;'></progress>\n",
       "      100.00% [15/15 00:01<00:00]\n",
       "    </div>\n",
       "    "
      ],
      "text/plain": [
       "<IPython.core.display.HTML object>"
      ]
     },
     "metadata": {},
     "output_type": "display_data"
    },
    {
     "data": {
      "text/html": [
       "<style type=\"text/css\">\n",
       "#T_4ec90_ th {\n",
       "  text-align: left;\n",
       "}\n",
       "#T_4ec90_row0_col0, #T_4ec90_row0_col1, #T_4ec90_row0_col2, #T_4ec90_row1_col0, #T_4ec90_row1_col1, #T_4ec90_row1_col2, #T_4ec90_row2_col0, #T_4ec90_row2_col1, #T_4ec90_row2_col2, #T_4ec90_row3_col0, #T_4ec90_row3_col1, #T_4ec90_row3_col2, #T_4ec90_row4_col0, #T_4ec90_row4_col1, #T_4ec90_row4_col2, #T_4ec90_row5_col0, #T_4ec90_row5_col1, #T_4ec90_row5_col2, #T_4ec90_row6_col0, #T_4ec90_row6_col1, #T_4ec90_row6_col2, #T_4ec90_row7_col0, #T_4ec90_row7_col1, #T_4ec90_row7_col2, #T_4ec90_row8_col0, #T_4ec90_row8_col1, #T_4ec90_row8_col2, #T_4ec90_row9_col0, #T_4ec90_row9_col1, #T_4ec90_row9_col2, #T_4ec90_row10_col0, #T_4ec90_row10_col1, #T_4ec90_row10_col2, #T_4ec90_row11_col0, #T_4ec90_row11_col1, #T_4ec90_row11_col2, #T_4ec90_row12_col0, #T_4ec90_row12_col1, #T_4ec90_row12_col2, #T_4ec90_row13_col0, #T_4ec90_row13_col1, #T_4ec90_row13_col2, #T_4ec90_row14_col0, #T_4ec90_row14_col1, #T_4ec90_row14_col2 {\n",
       "  text-align: left;\n",
       "}\n",
       "</style>\n",
       "<table id=\"T_4ec90_\">\n",
       "  <thead>\n",
       "    <tr>\n",
       "      <th class=\"col_heading level0 col0\" >Address</th>\n",
       "      <th class=\"col_heading level0 col1\" >CountryCode</th>\n",
       "      <th class=\"col_heading level0 col2\" >Confidence</th>\n",
       "    </tr>\n",
       "  </thead>\n",
       "  <tbody>\n",
       "    <tr>\n",
       "      <td id=\"T_4ec90_row0_col0\" class=\"data row0 col0\" >4, WINHAM AVENUE, OLD REYNELLA, SA, 5161</td>\n",
       "      <td id=\"T_4ec90_row0_col1\" class=\"data row0 col1\" >BE</td>\n",
       "      <td id=\"T_4ec90_row0_col2\" class=\"data row0 col2\" >0.377685</td>\n",
       "    </tr>\n",
       "    <tr>\n",
       "      <td id=\"T_4ec90_row1_col0\" class=\"data row1 col0\" >3, Wildstraat, Lommel, 3920</td>\n",
       "      <td id=\"T_4ec90_row1_col1\" class=\"data row1 col1\" >BE</td>\n",
       "      <td id=\"T_4ec90_row1_col2\" class=\"data row1 col2\" >0.377685</td>\n",
       "    </tr>\n",
       "    <tr>\n",
       "      <td id=\"T_4ec90_row2_col0\" class=\"data row2 col0\" >43, CL SANTA ANA, 11339</td>\n",
       "      <td id=\"T_4ec90_row2_col1\" class=\"data row2 col1\" >BE</td>\n",
       "      <td id=\"T_4ec90_row2_col2\" class=\"data row2 col2\" >0.377685</td>\n",
       "    </tr>\n",
       "    <tr>\n",
       "      <td id=\"T_4ec90_row3_col0\" class=\"data row3 col0\" >12, CL PUIG DE LA COVA (BONAVISTA), 43880</td>\n",
       "      <td id=\"T_4ec90_row3_col1\" class=\"data row3 col1\" >BE</td>\n",
       "      <td id=\"T_4ec90_row3_col2\" class=\"data row3 col2\" >0.377685</td>\n",
       "    </tr>\n",
       "    <tr>\n",
       "      <td id=\"T_4ec90_row4_col0\" class=\"data row4 col0\" >688, Park St N, Peterborough</td>\n",
       "      <td id=\"T_4ec90_row4_col1\" class=\"data row4 col1\" >BE</td>\n",
       "      <td id=\"T_4ec90_row4_col2\" class=\"data row4 col2\" >0.377685</td>\n",
       "    </tr>\n",
       "    <tr>\n",
       "      <td id=\"T_4ec90_row5_col0\" class=\"data row5 col0\" >42, Avenue de la Plante, 5000</td>\n",
       "      <td id=\"T_4ec90_row5_col1\" class=\"data row5 col1\" >BE</td>\n",
       "      <td id=\"T_4ec90_row5_col2\" class=\"data row5 col2\" >0.377685</td>\n",
       "    </tr>\n",
       "    <tr>\n",
       "      <td id=\"T_4ec90_row6_col0\" class=\"data row6 col0\" >35, Rue Lacombe</td>\n",
       "      <td id=\"T_4ec90_row6_col1\" class=\"data row6 col1\" >BE</td>\n",
       "      <td id=\"T_4ec90_row6_col2\" class=\"data row6 col2\" >0.377685</td>\n",
       "    </tr>\n",
       "    <tr>\n",
       "      <td id=\"T_4ec90_row7_col0\" class=\"data row7 col0\" >42, Asserendries, 9300</td>\n",
       "      <td id=\"T_4ec90_row7_col1\" class=\"data row7 col1\" >BE</td>\n",
       "      <td id=\"T_4ec90_row7_col2\" class=\"data row7 col2\" >0.377685</td>\n",
       "    </tr>\n",
       "    <tr>\n",
       "      <td id=\"T_4ec90_row8_col0\" class=\"data row8 col0\" >46, Rue des Carrières, 7181</td>\n",
       "      <td id=\"T_4ec90_row8_col1\" class=\"data row8 col1\" >BE</td>\n",
       "      <td id=\"T_4ec90_row8_col2\" class=\"data row8 col2\" >0.377685</td>\n",
       "    </tr>\n",
       "    <tr>\n",
       "      <td id=\"T_4ec90_row9_col0\" class=\"data row9 col0\" >13, CL MAREJADILLA, 21440</td>\n",
       "      <td id=\"T_4ec90_row9_col1\" class=\"data row9 col1\" >BE</td>\n",
       "      <td id=\"T_4ec90_row9_col2\" class=\"data row9 col2\" >0.377685</td>\n",
       "    </tr>\n",
       "    <tr>\n",
       "      <td id=\"T_4ec90_row10_col0\" class=\"data row10 col0\" >20, Kleistraat, 1770</td>\n",
       "      <td id=\"T_4ec90_row10_col1\" class=\"data row10 col1\" >BE</td>\n",
       "      <td id=\"T_4ec90_row10_col2\" class=\"data row10 col2\" >0.377685</td>\n",
       "    </tr>\n",
       "    <tr>\n",
       "      <td id=\"T_4ec90_row11_col0\" class=\"data row11 col0\" >91, CL MENENDEZ PELAYO, 3660</td>\n",
       "      <td id=\"T_4ec90_row11_col1\" class=\"data row11 col1\" >BE</td>\n",
       "      <td id=\"T_4ec90_row11_col2\" class=\"data row11 col2\" >0.377685</td>\n",
       "    </tr>\n",
       "    <tr>\n",
       "      <td id=\"T_4ec90_row12_col0\" class=\"data row12 col0\" >13, Avenue des Sorbiers, 2, 1180</td>\n",
       "      <td id=\"T_4ec90_row12_col1\" class=\"data row12 col1\" >BE</td>\n",
       "      <td id=\"T_4ec90_row12_col2\" class=\"data row12 col2\" >0.377685</td>\n",
       "    </tr>\n",
       "    <tr>\n",
       "      <td id=\"T_4ec90_row13_col0\" class=\"data row13 col0\" >8, Ter Ferrants, Kuurne, 8520</td>\n",
       "      <td id=\"T_4ec90_row13_col1\" class=\"data row13 col1\" >BE</td>\n",
       "      <td id=\"T_4ec90_row13_col2\" class=\"data row13 col2\" >0.377685</td>\n",
       "    </tr>\n",
       "    <tr>\n",
       "      <td id=\"T_4ec90_row14_col0\" class=\"data row14 col0\" >52, Chaussée de Wavre, 1350</td>\n",
       "      <td id=\"T_4ec90_row14_col1\" class=\"data row14 col1\" >BE</td>\n",
       "      <td id=\"T_4ec90_row14_col2\" class=\"data row14 col2\" >0.377685</td>\n",
       "    </tr>\n",
       "  </tbody>\n",
       "</table>\n"
      ],
      "text/plain": [
       "<pandas.io.formats.style.Styler at 0x16f8b047388>"
      ]
     },
     "execution_count": 33,
     "metadata": {},
     "output_type": "execute_result"
    }
   ],
   "source": [
    "# Using the trained model to classify new text documents using the predict method\n",
    "text_list = data._train_df.sample(15).Address.values\n",
    "result = model.predict(text_list)\n",
    "\n",
    "df = pd.DataFrame(result, columns=[\"Address\", \"CountryCode\", \"Confidence\"])\n",
    "\n",
    "df.style.set_table_styles([dict(selector='th', props=[('text-align', 'left')])])\\\n",
    "        .set_properties(**{'text-align': \"left\"}).hide_index()"
   ]
  },
  {
   "cell_type": "code",
   "execution_count": null,
   "id": "ee0e75d0",
   "metadata": {},
   "outputs": [],
   "source": []
  }
 ],
 "metadata": {
  "kernelspec": {
   "display_name": "ATOM",
   "language": "python",
   "name": "atom"
  },
  "language_info": {
   "codemirror_mode": {
    "name": "ipython",
    "version": 3
   },
   "file_extension": ".py",
   "mimetype": "text/x-python",
   "name": "python",
   "nbconvert_exporter": "python",
   "pygments_lexer": "ipython3",
   "version": "3.7.11"
  }
 },
 "nbformat": 4,
 "nbformat_minor": 5
}
